{
  "nbformat": 4,
  "nbformat_minor": 0,
  "metadata": {
    "colab": {
      "name": "1_4 logistic_regression.ipynb",
      "provenance": [],
      "collapsed_sections": [],
      "include_colab_link": true
    },
    "kernelspec": {
      "name": "python3",
      "display_name": "Python 3"
    }
  },
  "cells": [
    {
      "cell_type": "markdown",
      "metadata": {
        "id": "view-in-github",
        "colab_type": "text"
      },
      "source": [
        "<a href=\"https://colab.research.google.com/github/forlink/-Learning-materials-/blob/master/1_4_logistic_regression.ipynb\" target=\"_parent\"><img src=\"https://colab.research.google.com/assets/colab-badge.svg\" alt=\"Open In Colab\"/></a>"
      ]
    },
    {
      "cell_type": "code",
      "metadata": {
        "id": "dUBsm8-BOGva",
        "colab_type": "code",
        "colab": {}
      },
      "source": [
        "%matplotlib inline\n",
        "import os\n",
        "import tensorflow as tf\n",
        "import pandas\n",
        "import numpy as np\n",
        "import seaborn\n",
        "import keras\n",
        "import torch\n",
        "import torchvision\n",
        "import matplotlib.pyplot as plt\n",
        "\n",
        "from keras.models import Sequential\n",
        "from keras.layers import Dense, Activation, Flatten\n",
        "from keras import metrics\n",
        "from keras.preprocessing.text import one_hot\n",
        "from keras.preprocessing.sequence import pad_sequences\n"
      ],
      "execution_count": 0,
      "outputs": []
    },
    {
      "cell_type": "code",
      "metadata": {
        "id": "RGeKvZKyToFh",
        "colab_type": "code",
        "colab": {}
      },
      "source": [
        "np.set_printoptions(threshold=1000)\n",
        "np.set_printoptions(linewidth=300)\n"
      ],
      "execution_count": 0,
      "outputs": []
    },
    {
      "cell_type": "markdown",
      "metadata": {
        "id": "k3893bQcUG6K",
        "colab_type": "text"
      },
      "source": [
        "## 数据集"
      ]
    },
    {
      "cell_type": "code",
      "metadata": {
        "id": "_1heEhNPPtst",
        "colab_type": "code",
        "colab": {}
      },
      "source": [
        "# 载入数据集\n",
        "from keras.datasets import mnist\n",
        "(train_data_mnist, train_labels_mnist), (test_data_mnist, test_labels_mnist) = mnist.load_data()\n",
        "print(train_data_mnist.shape)\n",
        "print(train_labels_mnist.shape)\n",
        "print(test_data_mnist.shape)\n",
        "print(test_labels_mnist.shape)"
      ],
      "execution_count": 0,
      "outputs": []
    },
    {
      "cell_type": "markdown",
      "metadata": {
        "id": "kRKTTwWkUNjS",
        "colab_type": "text"
      },
      "source": [
        "# 设计模型"
      ]
    },
    {
      "cell_type": "code",
      "metadata": {
        "id": "huINjAejQBT0",
        "colab_type": "code",
        "colab": {}
      },
      "source": [
        "# 根据数据机设计模型 输入, 输出\n",
        "model = Sequential()\n",
        "model.add(Flatten(input_shape=(28,28)))\n",
        "model.add(Dense(128, activation='relu'))\n",
        "model.add(Dense(10, activation='softmax'))\n"
      ],
      "execution_count": 0,
      "outputs": []
    },
    {
      "cell_type": "code",
      "metadata": {
        "id": "c-qP37xCEfZR",
        "colab_type": "code",
        "colab": {}
      },
      "source": [
        "# 添加损失函数 \n",
        "model.compile(optimizer='adam', \n",
        "              loss='sparse_categorical_crossentropy',\n",
        "              metrics=['accuracy'])"
      ],
      "execution_count": 0,
      "outputs": []
    },
    {
      "cell_type": "markdown",
      "metadata": {
        "id": "2QImqXeEUSyS",
        "colab_type": "text"
      },
      "source": [
        "# 让模型学习"
      ]
    },
    {
      "cell_type": "code",
      "metadata": {
        "id": "R9dYOGotPM9Q",
        "colab_type": "code",
        "colab": {}
      },
      "source": [
        "# 模型 学习 \n",
        "# batch_size ： 每次放入128个数据\n",
        "# epochs : 循环10组\n",
        "model.fit(train_data_mnist, train_labels_mnist, epochs=50, batch_size=128)"
      ],
      "execution_count": 0,
      "outputs": []
    },
    {
      "cell_type": "markdown",
      "metadata": {
        "id": "AiobI4-SUfud",
        "colab_type": "text"
      },
      "source": [
        "# 评价模型"
      ]
    },
    {
      "cell_type": "code",
      "metadata": {
        "id": "BkZhJPOVTe54",
        "colab_type": "code",
        "colab": {}
      },
      "source": [
        "# 模型 评价\n",
        "result = model.evaluate(x=test_data_mnist, y=test_labels_mnist, verbose=1)\n",
        "print(result)"
      ],
      "execution_count": 0,
      "outputs": []
    },
    {
      "cell_type": "markdown",
      "metadata": {
        "id": "Y_zWJQCaUqRn",
        "colab_type": "text"
      },
      "source": [
        "# 用模型预测\n"
      ]
    },
    {
      "cell_type": "code",
      "metadata": {
        "id": "p2VTTZyrUuNF",
        "colab_type": "code",
        "colab": {}
      },
      "source": [
        "print(\"predict data:\")\n",
        "print(test_data_mnist[0:1])\n",
        "result = model.predict(x=test_data_mnist[0:1], verbose=1, batch_size=1)\n",
        "print(\"predict_result_ont_hot:\")\n",
        "print(result)\n",
        "result_int = np.argmax(result, axis=1)\n",
        "print(\"predict_result_int\")\n",
        "print(result_int)"
      ],
      "execution_count": 0,
      "outputs": []
    },
    {
      "cell_type": "code",
      "metadata": {
        "id": "k3weTP2TX1vf",
        "colab_type": "code",
        "colab": {}
      },
      "source": [
        "print(\"real data\")\n",
        "print(test_labels_mnist[0:1])"
      ],
      "execution_count": 0,
      "outputs": []
    }
  ]
}