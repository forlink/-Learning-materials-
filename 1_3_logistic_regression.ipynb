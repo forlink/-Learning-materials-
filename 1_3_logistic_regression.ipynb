{
  "nbformat": 4,
  "nbformat_minor": 0,
  "metadata": {
    "colab": {
      "name": "1_3 logistic_regression.ipynb",
      "provenance": [],
      "collapsed_sections": [],
      "include_colab_link": true
    },
    "kernelspec": {
      "name": "python3",
      "display_name": "Python 3"
    }
  },
  "cells": [
    {
      "cell_type": "markdown",
      "metadata": {
        "id": "view-in-github",
        "colab_type": "text"
      },
      "source": [
        "<a href=\"https://colab.research.google.com/github/forlink/-Learning-materials-/blob/master/1_3_logistic_regression.ipynb\" target=\"_parent\"><img src=\"https://colab.research.google.com/assets/colab-badge.svg\" alt=\"Open In Colab\"/></a>"
      ]
    },
    {
      "cell_type": "code",
      "metadata": {
        "id": "dUBsm8-BOGva",
        "colab_type": "code",
        "colab": {}
      },
      "source": [
        "%matplotlib inline\n",
        "import os\n",
        "import tensorflow as tf\n",
        "import pandas\n",
        "import numpy as np\n",
        "import seaborn\n",
        "import keras\n",
        "import torch\n",
        "import torchvision\n",
        "import matplotlib.pyplot as plt\n",
        "\n",
        "from keras.models import Sequential\n",
        "from keras.layers import Dense, Activation\n",
        "from keras import metrics\n",
        "from keras.preprocessing.text import one_hot\n",
        "from keras.preprocessing.sequence import pad_sequences\n"
      ],
      "execution_count": 0,
      "outputs": []
    },
    {
      "cell_type": "code",
      "metadata": {
        "id": "RGeKvZKyToFh",
        "colab_type": "code",
        "colab": {}
      },
      "source": [
        "np.set_printoptions(threshold=1000)\n",
        "np.set_printoptions(linewidth=300)\n"
      ],
      "execution_count": 0,
      "outputs": []
    },
    {
      "cell_type": "markdown",
      "metadata": {
        "id": "k3893bQcUG6K",
        "colab_type": "text"
      },
      "source": [
        "## 数据集"
      ]
    },
    {
      "cell_type": "code",
      "metadata": {
        "id": "_1heEhNPPtst",
        "colab_type": "code",
        "colab": {}
      },
      "source": [
        "# 载入数据集\n",
        "from keras.datasets import imdb\n",
        "(train_data_imdb, train_labels_imdb), (test_data_imdb, test_labels_imdb) = imdb.load_data(num_words=10000) \n",
        "\n",
        "print(train_data_imdb.shape)\n",
        "print(train_labels_imdb.shape)\n",
        "print(test_data_imdb.shape)\n",
        "print(test_labels_imdb.shape)"
      ],
      "execution_count": 0,
      "outputs": []
    },
    {
      "cell_type": "code",
      "metadata": {
        "id": "kV2-7WHIaiLS",
        "colab_type": "code",
        "colab": {}
      },
      "source": [
        "max_len = max([max(sequence) for sequence in train_data_imdb])\n",
        "print(max_len)\n",
        "\n",
        "print(train_data_imdb[0])"
      ],
      "execution_count": 0,
      "outputs": []
    },
    {
      "cell_type": "code",
      "metadata": {
        "id": "EzH_IlxogG3_",
        "colab_type": "code",
        "colab": {}
      },
      "source": [
        "# 将输入的连续数据编码 数据前处理\n",
        "\n",
        "def vectorize_sequences(sequences, dimension=10000):\n",
        "    results = np.zeros((len(sequences), dimension))\n",
        "    for i, sequence in enumerate(sequences):\n",
        "        results[i, sequence] = 1.\n",
        "    return results\n",
        "\n",
        "train_data_imdb_vec = vectorize_sequences(train_data_imdb)\n",
        "test_data_imdb_vec = vectorize_sequences(test_data_imdb)\n"
      ],
      "execution_count": 0,
      "outputs": []
    },
    {
      "cell_type": "code",
      "metadata": {
        "id": "YP6wqPG-jiZL",
        "colab_type": "code",
        "colab": {}
      },
      "source": [
        "print(train_data_imdb_vec.shape)\n",
        "print(train_data_imdb_vec[0])\n"
      ],
      "execution_count": 0,
      "outputs": []
    },
    {
      "cell_type": "markdown",
      "metadata": {
        "id": "kRKTTwWkUNjS",
        "colab_type": "text"
      },
      "source": [
        "# 设计模型"
      ]
    },
    {
      "cell_type": "code",
      "metadata": {
        "id": "huINjAejQBT0",
        "colab_type": "code",
        "colab": {}
      },
      "source": [
        "# 根据数据机设计模型 输入, 输出\n",
        "model = Sequential()\n",
        "model.add(Dense(16, activation='relu', input_dim=10000))\n",
        "model.add(Dense(16, activation='relu'))\n",
        "model.add(Dense(1, activation='sigmoid'))\n"
      ],
      "execution_count": 0,
      "outputs": []
    },
    {
      "cell_type": "code",
      "metadata": {
        "id": "c-qP37xCEfZR",
        "colab_type": "code",
        "colab": {}
      },
      "source": [
        "# 添加损失函数 \n",
        "model.compile(optimizer='rmsprop', \n",
        "              loss='binary_crossentropy',\n",
        "              metrics=['accuracy'])"
      ],
      "execution_count": 0,
      "outputs": []
    },
    {
      "cell_type": "markdown",
      "metadata": {
        "id": "2QImqXeEUSyS",
        "colab_type": "text"
      },
      "source": [
        "# 让模型学习"
      ]
    },
    {
      "cell_type": "code",
      "metadata": {
        "id": "R9dYOGotPM9Q",
        "colab_type": "code",
        "colab": {}
      },
      "source": [
        "# 模型 学习 \n",
        "# batch_size ： 每次放入512个数据\n",
        "# epochs : 循环10组\n",
        "model.fit(train_data_imdb_vec, train_labels_imdb, epochs=10, batch_size=512)"
      ],
      "execution_count": 0,
      "outputs": []
    },
    {
      "cell_type": "markdown",
      "metadata": {
        "id": "AiobI4-SUfud",
        "colab_type": "text"
      },
      "source": [
        "# 评价模型"
      ]
    },
    {
      "cell_type": "code",
      "metadata": {
        "id": "BkZhJPOVTe54",
        "colab_type": "code",
        "colab": {}
      },
      "source": [
        "# 模型 评价\n",
        "result = model.evaluate(x=test_data_imdb_vec, y=test_labels_imdb, verbose=1)\n",
        "print(result)"
      ],
      "execution_count": 0,
      "outputs": []
    },
    {
      "cell_type": "markdown",
      "metadata": {
        "id": "Y_zWJQCaUqRn",
        "colab_type": "text"
      },
      "source": [
        "# 用模型预测\n"
      ]
    },
    {
      "cell_type": "code",
      "metadata": {
        "id": "p2VTTZyrUuNF",
        "colab_type": "code",
        "colab": {}
      },
      "source": [
        "print(\"predict data:\")\n",
        "print(test_data_imdb_vec[0:1])\n",
        "result = model.predict(x=test_data_imdb_vec[0:1], verbose=1, batch_size=1)\n",
        "print(\"predict_result:\")\n",
        "print(result)"
      ],
      "execution_count": 0,
      "outputs": []
    },
    {
      "cell_type": "code",
      "metadata": {
        "id": "k3weTP2TX1vf",
        "colab_type": "code",
        "colab": {}
      },
      "source": [
        "print(\"real data\")\n",
        "print(test_labels_imdb[0:1])"
      ],
      "execution_count": 0,
      "outputs": []
    }
  ]
}