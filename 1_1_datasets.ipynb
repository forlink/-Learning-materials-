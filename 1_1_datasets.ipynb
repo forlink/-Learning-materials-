{
  "nbformat": 4,
  "nbformat_minor": 0,
  "metadata": {
    "kernelspec": {
      "display_name": "Python 3",
      "language": "python",
      "name": "python3"
    },
    "language_info": {
      "codemirror_mode": {
        "name": "ipython",
        "version": 3
      },
      "file_extension": ".py",
      "mimetype": "text/x-python",
      "name": "python",
      "nbconvert_exporter": "python",
      "pygments_lexer": "ipython3",
      "version": "3.6.0"
    },
    "colab": {
      "name": "1_1 datasets.ipynb",
      "provenance": [],
      "collapsed_sections": [],
      "include_colab_link": true
    }
  },
  "cells": [
    {
      "cell_type": "markdown",
      "metadata": {
        "id": "view-in-github",
        "colab_type": "text"
      },
      "source": [
        "<a href=\"https://colab.research.google.com/github/forlink/-Learning-materials-/blob/master/1_1_datasets.ipynb\" target=\"_parent\"><img src=\"https://colab.research.google.com/assets/colab-badge.svg\" alt=\"Open In Colab\"/></a>"
      ]
    },
    {
      "cell_type": "code",
      "metadata": {
        "id": "gV11WjkOo-3C",
        "colab_type": "code",
        "colab": {}
      },
      "source": [
        "%matplotlib inline\n",
        "import os\n",
        "import tensorflow as tf\n",
        "import pandas\n",
        "import numpy as np\n",
        "import seaborn\n",
        "import keras\n",
        "import torch\n",
        "import torchvision\n",
        "import matplotlib.pyplot as plt\n",
        "\n"
      ],
      "execution_count": 0,
      "outputs": []
    },
    {
      "cell_type": "code",
      "metadata": {
        "id": "-5ueSCW6s-0s",
        "colab_type": "code",
        "colab": {}
      },
      "source": [
        "np.set_printoptions(threshold=1000)\n",
        "np.set_printoptions(linewidth=300)"
      ],
      "execution_count": 0,
      "outputs": []
    },
    {
      "cell_type": "markdown",
      "metadata": {
        "id": "O_60GTB4WIOS",
        "colab_type": "text"
      },
      "source": [
        "# Keras Datasets\n"
      ]
    },
    {
      "cell_type": "markdown",
      "metadata": {
        "id": "gWf3K4hYrAsk",
        "colab_type": "text"
      },
      "source": [
        "### 1. boston_housing Dataset\n",
        "### 波士顿房价数据集\n",
        "\n",
        "\n"
      ]
    },
    {
      "cell_type": "code",
      "metadata": {
        "id": "YPU27yxjJasA",
        "colab_type": "code",
        "colab": {}
      },
      "source": [
        "# load dataset\n",
        "from keras.datasets import boston_housing\n",
        "(train_data, train_label), (test_data, test_label) = boston_housing.load_data()\n",
        "print(train_data.shape)\n",
        "print(train_label.shape)\n",
        "print(test_data.shape)\n",
        "print(test_label.shape)\n"
      ],
      "execution_count": 0,
      "outputs": []
    },
    {
      "cell_type": "code",
      "metadata": {
        "id": "QYZLvt6NsZoZ",
        "colab_type": "code",
        "colab": {}
      },
      "source": [
        "# 根据多种条件判断自住房的平均价格\n",
        "# input data :\n",
        "# 1.CRIM：城镇人均犯罪率。\n",
        "# 2.ZN：住宅用地超过 25000 sq.ft. 的比例。\n",
        "# 3.INDUS：城镇非零售商用土地的比例。\n",
        "# 4.CHAS：查理斯河空变量（如果边界是河流，则为1；否则为0）。\n",
        "# 5.NOX：一氧化氮浓度。\n",
        "# 6.RM：住宅平均房间数。\n",
        "# 7.AGE：1940 年之前建成的自用房屋比例。\n",
        "# 8.DIS：到波士顿五个中心区域的加权距离。\n",
        "# 9.RAD：辐射性公路的接近指数。\n",
        "# 10.TAX：每 10000 美元的全值财产税率。\n",
        "# 11.PTRATIO：城镇师生比例。\n",
        "# 12.B：1000（Bk-0.63）^ 2，其中 Bk 指代城镇中黑人的比例。\n",
        "# 13.LSTAT：人口中地位低下者的比例。\n",
        "print(\"input data :\")\n",
        "print(train_data[0])\n",
        "\n",
        "# label data : \n",
        "# 1.MEDV：自住房的平均房价，以千美元计。\n",
        "print(\"label data:\")\n",
        "print(train_label[0])"
      ],
      "execution_count": 0,
      "outputs": []
    },
    {
      "cell_type": "markdown",
      "metadata": {
        "id": "TAjft5S6vakZ",
        "colab_type": "text"
      },
      "source": [
        "### 2. imdb Dataset\n",
        "### IMDB电影评论数据集"
      ]
    },
    {
      "cell_type": "code",
      "metadata": {
        "id": "J5JTmswgxXzc",
        "colab_type": "code",
        "colab": {}
      },
      "source": [
        "from keras.datasets import imdb\n",
        "(train_data_imdb, train_labels_imdb), (test_data_imdb, test_labels_imdb) = imdb.load_data(num_words=10000) \n",
        "\n",
        "print(train_data_imdb.shape)\n",
        "print(train_labels_imdb.shape)\n",
        "print(test_data_imdb.shape)\n",
        "print(test_labels_imdb.shape)"
      ],
      "execution_count": 0,
      "outputs": []
    },
    {
      "cell_type": "code",
      "metadata": {
        "id": "6oIICA2ZyPDF",
        "colab_type": "code",
        "colab": {}
      },
      "source": [
        "# 根据电影评论的文字内容来将电影划分为正面或者负面。\n",
        "# input data : \n",
        "# 1. 已编码的句子\n",
        "print(\"input data imdb:\")\n",
        "print(train_data_imdb[0])\n",
        "\n",
        "# label data :\n",
        "# 1. 评论态度 ： 1 积极， 0 消极\n",
        "print(\"label data imdb:\")\n",
        "print(train_labels_imdb[0])"
      ],
      "execution_count": 0,
      "outputs": []
    },
    {
      "cell_type": "code",
      "metadata": {
        "id": "YslK0pIay0-G",
        "colab_type": "code",
        "colab": {}
      },
      "source": [
        "word_index = imdb.get_word_index()\n",
        "print(word_index)"
      ],
      "execution_count": 0,
      "outputs": []
    },
    {
      "cell_type": "code",
      "metadata": {
        "id": "vRFNi-MsqrXU",
        "colab_type": "code",
        "colab": {}
      },
      "source": [
        "reverse_word_index = dict([(value, key) for (key, value) in word_index.items()])\n",
        "decoded_review = ' '.join([reverse_word_index.get(i - 3, '?') for i in train_data_imdb[0]])\n",
        "print(\"data\")\n",
        "print(decoded_review)\n",
        "\n",
        "print(\"label\")\n",
        "print(train_labels_imdb[0])"
      ],
      "execution_count": 0,
      "outputs": []
    },
    {
      "cell_type": "markdown",
      "metadata": {
        "id": "HpJ2lc5v1r6M",
        "colab_type": "text"
      },
      "source": [
        "### 3. mnist Dataset\n",
        "### 手写数字数据集"
      ]
    },
    {
      "cell_type": "code",
      "metadata": {
        "id": "W5E3vOBv1xqd",
        "colab_type": "code",
        "colab": {}
      },
      "source": [
        "from keras.datasets import mnist\n",
        "(train_data_mnist, train_labels_mnist), (test_data_mnist, test_labels_mnist) = mnist.load_data()\n",
        "print(train_data_mnist.shape)\n",
        "print(train_labels_mnist.shape)\n",
        "print(test_data_mnist.shape)\n",
        "print(test_labels_mnist.shape)"
      ],
      "execution_count": 0,
      "outputs": []
    },
    {
      "cell_type": "code",
      "metadata": {
        "id": "m1LptyvP3ABd",
        "colab_type": "code",
        "colab": {}
      },
      "source": [
        "# 手写数字识别\n",
        "# input data : \n",
        "# 1. 手写数字图像 28px * 28px\n",
        "print(\"input data imdb:\")\n",
        "print(train_data_mnist[0])\n",
        "plt.imshow(train_data_mnist[0], cmap='Greys')\n",
        "\n"
      ],
      "execution_count": 0,
      "outputs": []
    },
    {
      "cell_type": "code",
      "metadata": {
        "id": "wbZrQwzT393h",
        "colab_type": "code",
        "colab": {}
      },
      "source": [
        "from keras.utils import to_categorical\n",
        "# label data :\n",
        "# 1. 手写数字标签 0~9\n",
        "print(\"label data imdb:\")\n",
        "print(train_labels_mnist[0])\n",
        "\n",
        "print(\"one hot:\")\n",
        "train_labels_onehot = to_categorical(train_labels_mnist[0], num_classes=10)\n",
        "print(train_labels_onehot)"
      ],
      "execution_count": 0,
      "outputs": []
    }
  ]
}