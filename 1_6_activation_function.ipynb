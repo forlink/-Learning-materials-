{
  "nbformat": 4,
  "nbformat_minor": 0,
  "metadata": {
    "anaconda-cloud": {},
    "kernelspec": {
      "display_name": "Python 3",
      "language": "python",
      "name": "python3"
    },
    "language_info": {
      "codemirror_mode": {
        "name": "ipython",
        "version": 3
      },
      "file_extension": ".py",
      "mimetype": "text/x-python",
      "name": "python",
      "nbconvert_exporter": "python",
      "pygments_lexer": "ipython3",
      "version": "3.6.5"
    },
    "colab": {
      "name": "1_6 activation_function.ipynb",
      "provenance": [],
      "collapsed_sections": [],
      "include_colab_link": true
    }
  },
  "cells": [
    {
      "cell_type": "markdown",
      "metadata": {
        "id": "view-in-github",
        "colab_type": "text"
      },
      "source": [
        "<a href=\"https://colab.research.google.com/github/forlink/-Learning-materials-/blob/master/1_6_activation_function.ipynb\" target=\"_parent\"><img src=\"https://colab.research.google.com/assets/colab-badge.svg\" alt=\"Open In Colab\"/></a>"
      ]
    },
    {
      "cell_type": "markdown",
      "metadata": {
        "id": "RtzEH3RExfQT",
        "colab_type": "text"
      },
      "source": [
        "#  activation\n",
        "# 激活函数"
      ]
    },
    {
      "cell_type": "code",
      "metadata": {
        "ExecuteTime": {
          "end_time": "2018-03-30T04:19:47.916151Z",
          "start_time": "2018-03-30T04:19:47.906508Z"
        },
        "id": "DaqrN0zfxfQW",
        "colab_type": "code",
        "colab": {}
      },
      "source": [
        "%matplotlib inline\n",
        "import os\n",
        "import tensorflow as tf\n",
        "import pandas\n",
        "import numpy as np\n",
        "import seaborn\n",
        "import keras\n",
        "import torch\n",
        "import torchvision\n",
        "import matplotlib.pyplot as plt"
      ],
      "execution_count": 0,
      "outputs": []
    },
    {
      "cell_type": "markdown",
      "metadata": {
        "id": "hzd66bTZxfQY",
        "colab_type": "text"
      },
      "source": [
        "## 恒等函数\n",
        "$h(x)=x$"
      ]
    },
    {
      "cell_type": "code",
      "metadata": {
        "ExecuteTime": {
          "end_time": "2018-03-30T04:21:49.291888Z",
          "start_time": "2018-03-30T04:21:49.069209Z"
        },
        "id": "66mU38BPxfQc",
        "colab_type": "code",
        "colab": {}
      },
      "source": [
        "def linear(x):\n",
        "    return x\n",
        "    \n",
        "x = np.arange(-5,5,0.1)\n",
        "y = linear(x) \n",
        "plt.figure(figsize=(3.5,3))\n",
        "plt.plot(x,y)\n",
        "plt.xlabel(\"x\")\n",
        "plt.ylabel(\"y\")\n",
        "plt.ylim([-5,5])\n",
        "plt.show()"
      ],
      "execution_count": 0,
      "outputs": []
    },
    {
      "cell_type": "markdown",
      "metadata": {
        "id": "B5pWxd5txfQe",
        "colab_type": "text"
      },
      "source": [
        "## step 函数\n",
        "$h(x) = 1 (x>0)$  \n",
        "$h(x) = 0 (x<=0)$"
      ]
    },
    {
      "cell_type": "code",
      "metadata": {
        "ExecuteTime": {
          "end_time": "2018-03-30T04:21:58.538256Z",
          "start_time": "2018-03-30T04:21:58.305683Z"
        },
        "id": "fVGXShMCxfQh",
        "colab_type": "code",
        "colab": {}
      },
      "source": [
        "def step(x):\n",
        "    return np.array(x>0).astype(np.int)\n",
        "    \n",
        "x = np.arange(-5,5,0.1)\n",
        "y = step(x) \n",
        "plt.figure(figsize=(3.5,3))\n",
        "plt.plot(x,y)\n",
        "plt.xlabel(\"x\")\n",
        "plt.ylabel(\"y\")\n",
        "plt.ylim([-0.1,1.1])\n",
        "plt.show()"
      ],
      "execution_count": 0,
      "outputs": []
    },
    {
      "cell_type": "markdown",
      "metadata": {
        "id": "7gf7Wob-xfQi",
        "colab_type": "text"
      },
      "source": [
        "## sigmoid 函数"
      ]
    },
    {
      "cell_type": "markdown",
      "metadata": {
        "id": "vSv7Y8EGxfQj",
        "colab_type": "text"
      },
      "source": [
        "$\\displaystyle{h(x)=\\frac{1}{(1+\\exp(-x))}}$"
      ]
    },
    {
      "cell_type": "code",
      "metadata": {
        "ExecuteTime": {
          "end_time": "2018-03-30T04:22:02.610225Z",
          "start_time": "2018-03-30T04:22:02.343295Z"
        },
        "id": "gC786nuqxfQl",
        "colab_type": "code",
        "colab": {}
      },
      "source": [
        "def sigmoid(x):\n",
        "    return 1 / (1+ np.exp(-x))\n",
        "\n",
        "x = np.arange(-5,5,0.1)\n",
        "y = sigmoid(x) \n",
        "plt.figure(figsize=(3.5,3))\n",
        "plt.plot(x,y)\n",
        "plt.xlabel(\"x\")\n",
        "plt.ylabel(\"y\")\n",
        "plt.ylim([-0.1,1.1])\n",
        "plt.show()"
      ],
      "execution_count": 0,
      "outputs": []
    },
    {
      "cell_type": "markdown",
      "metadata": {
        "id": "aA01m-ynxfQo",
        "colab_type": "text"
      },
      "source": [
        "## tanh 函数\n",
        "$\\displaystyle h(x) = \\frac{sinh(x)}{cosh(x)}=\\frac{e^x-e^{-x}}{e^x+e^{-x}}$  "
      ]
    },
    {
      "cell_type": "code",
      "metadata": {
        "ExecuteTime": {
          "end_time": "2018-03-30T04:22:09.539163Z",
          "start_time": "2018-03-30T04:22:09.303442Z"
        },
        "id": "aeik1JdFxfQq",
        "colab_type": "code",
        "colab": {}
      },
      "source": [
        "def tanh(x):\n",
        "    return np.tanh(x)\n",
        "#     return np.sinh(x)/np.cosh(x)\n",
        "#     return (np.exp(x)-np.exp(-x))/(np.exp(x)+np.exp(-x))\n",
        "\n",
        "x = np.arange(-5,5,0.1)\n",
        "y = tanh(x) \n",
        "plt.figure(figsize=(3.5,3))\n",
        "plt.plot(x,y)\n",
        "plt.xlabel(\"x\")\n",
        "plt.ylabel(\"y\")\n",
        "plt.ylim([-2,2])\n",
        "plt.show()"
      ],
      "execution_count": 0,
      "outputs": []
    },
    {
      "cell_type": "markdown",
      "metadata": {
        "id": "9-0uTCmfxfQr",
        "colab_type": "text"
      },
      "source": [
        "## ReLU 函数\n",
        "$h(x) = x (x>=0)$  \n",
        "$h(x) = 0 (x<0)$"
      ]
    },
    {
      "cell_type": "code",
      "metadata": {
        "ExecuteTime": {
          "end_time": "2018-03-30T04:22:13.015776Z",
          "start_time": "2018-03-30T04:22:12.782611Z"
        },
        "scrolled": true,
        "id": "wYzZSKUOxfQt",
        "colab_type": "code",
        "colab": {}
      },
      "source": [
        "def relu(x):\n",
        "    return np.maximum(0, x)\n",
        "\n",
        "x = np.arange(-5,5,0.1)\n",
        "y = relu(x) \n",
        "plt.figure(figsize=(3.5,3))\n",
        "plt.plot(x,y)\n",
        "plt.xlabel(\"x\")\n",
        "plt.ylabel(\"y\")\n",
        "plt.ylim([-5.0,5])\n",
        "plt.show()"
      ],
      "execution_count": 0,
      "outputs": []
    },
    {
      "cell_type": "markdown",
      "metadata": {
        "id": "Kdg5qNl0xfQv",
        "colab_type": "text"
      },
      "source": [
        "## LeakyReLU  函数\n",
        "$h(x) = x (x>=0)$  \n",
        "$h(x) = ax (x<0)$"
      ]
    },
    {
      "cell_type": "code",
      "metadata": {
        "ExecuteTime": {
          "end_time": "2018-03-30T04:22:16.649866Z",
          "start_time": "2018-03-30T04:22:16.415410Z"
        },
        "id": "cWAhwoVsxfQv",
        "colab_type": "code",
        "colab": {}
      },
      "source": [
        "def leakyrelu(x, a=0.1):\n",
        "    return np.maximum(0, x) + np.minimum(0, x) * a\n",
        "\n",
        "x = np.arange(-5,5,0.1)\n",
        "y = leakyrelu(x) \n",
        "plt.figure(figsize=(3.5,3))\n",
        "plt.plot(x,y)\n",
        "plt.xlabel(\"x\")\n",
        "plt.ylabel(\"y\")\n",
        "plt.ylim([-5.0,5])\n",
        "plt.show()"
      ],
      "execution_count": 0,
      "outputs": []
    },
    {
      "cell_type": "markdown",
      "metadata": {
        "id": "eMBiPpTwxfQy",
        "colab_type": "text"
      },
      "source": [
        "## Softplus 函数\n",
        "$h(x)=\\log(1+\\exp(x))$"
      ]
    },
    {
      "cell_type": "code",
      "metadata": {
        "ExecuteTime": {
          "end_time": "2018-03-30T04:22:22.530975Z",
          "start_time": "2018-03-30T04:22:22.206163Z"
        },
        "id": "oUMBGLPwxfQy",
        "colab_type": "code",
        "colab": {}
      },
      "source": [
        "def softplus(x):\n",
        "    return np.log(1+np.exp(x))\n",
        "\n",
        "x = np.arange(-5,5,0.1)\n",
        "y = softplus(x) \n",
        "plt.figure(figsize=(3.5,3))\n",
        "plt.plot(x,y)\n",
        "plt.xlabel(\"x\")\n",
        "plt.ylabel(\"y\")\n",
        "plt.ylim([-5.0,5])\n",
        "plt.show()"
      ],
      "execution_count": 0,
      "outputs": []
    },
    {
      "cell_type": "markdown",
      "metadata": {
        "id": "mAnNIcmOxfQ0",
        "colab_type": "text"
      },
      "source": [
        "## Hardtanh\n",
        "$h(x) = x (-1<=x, x<=1)$  \n",
        "$h(x) = 1 (x>1)$  \n",
        "$h(x) = -1 (x<-1)$"
      ]
    },
    {
      "cell_type": "code",
      "metadata": {
        "ExecuteTime": {
          "end_time": "2018-03-30T04:22:25.641886Z",
          "start_time": "2018-03-30T04:22:25.401598Z"
        },
        "id": "cWqiG_DWxfQ0",
        "colab_type": "code",
        "colab": {}
      },
      "source": [
        "def hardtanh(x):\n",
        "    return np.maximum(-1, np.minimum(1, x))\n",
        "\n",
        "x = np.arange(-5,5,0.1)\n",
        "y = hardtanh(x) \n",
        "plt.figure(figsize=(3.5,3))\n",
        "plt.plot(x,y)\n",
        "plt.xlabel(\"x\")\n",
        "plt.ylabel(\"y\")\n",
        "plt.ylim([-5.0,5])\n",
        "plt.show()"
      ],
      "execution_count": 0,
      "outputs": []
    }
  ]
}