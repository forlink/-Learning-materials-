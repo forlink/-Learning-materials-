{
  "nbformat": 4,
  "nbformat_minor": 0,
  "metadata": {
    "kernelspec": {
      "display_name": "Python 3",
      "language": "python",
      "name": "python3"
    },
    "language_info": {
      "codemirror_mode": {
        "name": "ipython",
        "version": 3
      },
      "file_extension": ".py",
      "mimetype": "text/x-python",
      "name": "python",
      "nbconvert_exporter": "python",
      "pygments_lexer": "ipython3",
      "version": "3.6.5"
    },
    "colab": {
      "name": "1_5 perceptron.ipynb",
      "provenance": [],
      "collapsed_sections": [],
      "include_colab_link": true
    }
  },
  "cells": [
    {
      "cell_type": "markdown",
      "metadata": {
        "id": "view-in-github",
        "colab_type": "text"
      },
      "source": [
        "<a href=\"https://colab.research.google.com/github/forlink/-Learning-materials-/blob/master/1_5_perceptron.ipynb\" target=\"_parent\"><img src=\"https://colab.research.google.com/assets/colab-badge.svg\" alt=\"Open In Colab\"/></a>"
      ]
    },
    {
      "cell_type": "markdown",
      "metadata": {
        "id": "7WHTBIuNqCj1",
        "colab_type": "text"
      },
      "source": [
        "#  perceptron\n",
        "# 人工神经单元 "
      ]
    },
    {
      "cell_type": "code",
      "metadata": {
        "id": "rz47-I48qD4s",
        "colab_type": "code",
        "colab": {}
      },
      "source": [
        "%matplotlib inline\n",
        "import os\n",
        "import tensorflow as tf\n",
        "import pandas\n",
        "import numpy as np\n",
        "import seaborn\n",
        "import keras\n",
        "import torch\n",
        "import torchvision\n",
        "import matplotlib.pyplot as plt\n",
        "\n",
        "from keras.models import Sequential\n",
        "from keras.layers import Dense, Activation, Flatten\n",
        "from keras import metrics\n",
        "from keras.preprocessing.text import one_hot\n",
        "from keras.preprocessing.sequence import pad_sequences"
      ],
      "execution_count": 0,
      "outputs": []
    },
    {
      "cell_type": "markdown",
      "metadata": {
        "ExecuteTime": {
          "end_time": "2018-03-28T14:35:09.791226Z",
          "start_time": "2018-03-28T14:35:09.787244Z"
        },
        "id": "TsX5O1wmnqbh",
        "colab_type": "text"
      },
      "source": [
        "## activation function\n",
        "## 激活函数 & 输出层"
      ]
    },
    {
      "cell_type": "code",
      "metadata": {
        "ExecuteTime": {
          "end_time": "2018-03-28T14:43:02.765796Z",
          "start_time": "2018-03-28T14:43:02.761089Z"
        },
        "id": "tzKCx_gdnqbi",
        "colab_type": "code",
        "colab": {}
      },
      "source": [
        "# 线性回归输出层\n",
        "def linear(x):\n",
        "    return x\n",
        "\n",
        "# 逻辑回归输出层\n",
        "def sigmoid(x):\n",
        "    return 1 / (1+ np.exp(-x))"
      ],
      "execution_count": 0,
      "outputs": []
    },
    {
      "cell_type": "markdown",
      "metadata": {
        "id": "3jcG8Tui1565",
        "colab_type": "text"
      },
      "source": [
        "###  * softmax 输出层\n",
        "* 将多个数值 正规化 使其和为1 \n",
        "\n"
      ]
    },
    {
      "cell_type": "markdown",
      "metadata": {
        "id": "tbMdVv122HvA",
        "colab_type": "text"
      },
      "source": [
        "$\\displaystyle{y_k=\\frac{\\exp(a_k)}{\\Sigma_{i=1}^{K}(\\exp(a_i))}}$  \n",
        "   \n",
        "$y_k$:输出层 第$k$个数据的softmax值 \n",
        "\n",
        "$K$: 输出层 总数  \n",
        "$k$: 序号\n"
      ]
    },
    {
      "cell_type": "code",
      "metadata": {
        "id": "4LWpghXD13WH",
        "colab_type": "code",
        "colab": {}
      },
      "source": [
        "# 多值分类输出层\n",
        "def softmax(x):       \n",
        "    exp_a = np.exp(x)\n",
        "    return exp_a / np.sum(exp_a)"
      ],
      "execution_count": 0,
      "outputs": []
    },
    {
      "cell_type": "code",
      "metadata": {
        "id": "as8mndZP4mla",
        "colab_type": "code",
        "outputId": "e6ab460d-82fd-46b7-bd80-da2ad8fd03d4",
        "colab": {
          "base_uri": "https://localhost:8080/",
          "height": 85
        }
      },
      "source": [
        "print(\"输入值\")\n",
        "x = np.array([1.0, 2.0, 3.0])\n",
        "\n",
        "y = softmax(x)\n",
        "print(\"softmax 输出值\")\n",
        "print(y)\n",
        "# 合计值\n",
        "print(\"合计=\", np.sum(y))"
      ],
      "execution_count": 0,
      "outputs": [
        {
          "output_type": "stream",
          "text": [
            "输入值\n",
            "softmax 输出值\n",
            "[0.09003057 0.24472847 0.66524096]\n",
            "合计= 1.0\n"
          ],
          "name": "stdout"
        }
      ]
    },
    {
      "cell_type": "markdown",
      "metadata": {
        "id": "8NC6tgPnnqbm",
        "colab_type": "text"
      },
      "source": [
        "## 1层 人工智能神经网络 (不加激活函数）\n"
      ]
    },
    {
      "cell_type": "code",
      "metadata": {
        "ExecuteTime": {
          "end_time": "2018-03-28T14:43:02.792239Z",
          "start_time": "2018-03-28T14:43:02.777453Z"
        },
        "id": "J-Rcb3nLnqbm",
        "colab_type": "code",
        "colab": {}
      },
      "source": [
        "x = np.array([1.0,2.0])\n",
        "print(x.shape)\n",
        "W = np.array([[1.0,2.0,3.0],[4.0,5.0,6.0]])\n",
        "print(W.shape)\n",
        "b = np.array([0.01, 0.02, 0.03])\n",
        "print(b.shape)\n",
        "y = np.dot(x, W) + b\n",
        "print(y)"
      ],
      "execution_count": 0,
      "outputs": []
    },
    {
      "cell_type": "markdown",
      "metadata": {
        "id": "UsBf8_arnqbo",
        "colab_type": "text"
      },
      "source": [
        "## 3层 人工神经智能网络（加激活函数）"
      ]
    },
    {
      "cell_type": "code",
      "metadata": {
        "ExecuteTime": {
          "end_time": "2018-03-28T14:43:02.814316Z",
          "start_time": "2018-03-28T14:43:02.795520Z"
        },
        "id": "qKjXTuY9nqbo",
        "colab_type": "code",
        "colab": {}
      },
      "source": [
        "# 第1层\n",
        "# 输入层\n",
        "x = np.array([1.0, 0.5])\n",
        "print(\"输入层\")\n",
        "print(x)\n",
        "W1 = np.array([[0.1, 0.3, 0.5],[0.2, 0.4, 0.6]])\n",
        "b1 = np.array([0.1, 0.2, 0.3])\n",
        "a1 = np.dot(x, W1) + b1 \n",
        "print(\"第1层输出\")\n",
        "print(a1)\n",
        "# 加入 sigmoid 激活函数\n",
        "print(\"第1层 + 激活函数\")\n",
        "h1 = sigmoid(a1)\n",
        "print(h1)"
      ],
      "execution_count": 0,
      "outputs": []
    },
    {
      "cell_type": "code",
      "metadata": {
        "ExecuteTime": {
          "end_time": "2018-03-28T14:43:02.831965Z",
          "start_time": "2018-03-28T14:43:02.819140Z"
        },
        "id": "zg_k2-PYnqbq",
        "colab_type": "code",
        "colab": {}
      },
      "source": [
        "# 第2层\n",
        "x2 = h1\n",
        "W2 = np.array([[0.1, 0.4],[0.2, 0.5], [0.3, 0.6]])\n",
        "b2 = np.array([0.1, 0.2])\n",
        "a2 = np.dot(x2, W2) + b2\n",
        "print(\"第2层输出\")\n",
        "print(a2)\n",
        "# 加入 sigmoid 激活函数\n",
        "h2 = sigmoid(a2)\n",
        "print(\"第2层 + 激活函数\")\n",
        "print(h2)"
      ],
      "execution_count": 0,
      "outputs": []
    },
    {
      "cell_type": "code",
      "metadata": {
        "ExecuteTime": {
          "end_time": "2018-03-28T14:43:02.852968Z",
          "start_time": "2018-03-28T14:43:02.835586Z"
        },
        "id": "BwsI1yARnqbs",
        "colab_type": "code",
        "colab": {}
      },
      "source": [
        "# 第3层\n",
        "x3 = h2\n",
        "W3 = np.array([[0.1, 0.3],[0.2, 0.4]])\n",
        "b3 = np.array([0.1, 0.2])\n",
        "a3 = np.dot(x3, W3) + b3\n",
        "print(\"第3层输出\")\n",
        "print(a3)\n",
        "# 输出层 线性回归 用了恒等激活函数\n",
        "# \n",
        "y = linear(a3)\n",
        "print(\"输出层\")\n",
        "print(y)"
      ],
      "execution_count": 0,
      "outputs": []
    }
  ]
}