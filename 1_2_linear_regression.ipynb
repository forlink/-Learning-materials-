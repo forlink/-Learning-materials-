{
  "nbformat": 4,
  "nbformat_minor": 0,
  "metadata": {
    "colab": {
      "name": "1_2 linear_regression.ipynb",
      "provenance": [],
      "collapsed_sections": [],
      "include_colab_link": true
    },
    "kernelspec": {
      "name": "python3",
      "display_name": "Python 3"
    }
  },
  "cells": [
    {
      "cell_type": "markdown",
      "metadata": {
        "id": "view-in-github",
        "colab_type": "text"
      },
      "source": [
        "<a href=\"https://colab.research.google.com/github/forlink/-Learning-materials-/blob/master/1_2_linear_regression.ipynb\" target=\"_parent\"><img src=\"https://colab.research.google.com/assets/colab-badge.svg\" alt=\"Open In Colab\"/></a>"
      ]
    },
    {
      "cell_type": "code",
      "metadata": {
        "id": "dUBsm8-BOGva",
        "colab_type": "code",
        "colab": {}
      },
      "source": [
        "%matplotlib inline\n",
        "import os\n",
        "import tensorflow as tf\n",
        "import pandas\n",
        "import numpy as np\n",
        "import seaborn\n",
        "import keras\n",
        "import torch\n",
        "import torchvision\n",
        "import matplotlib.pyplot as plt\n",
        "\n",
        "from keras.models import Sequential\n",
        "from keras.layers import Dense, Activation\n",
        "from keras import metrics\n"
      ],
      "execution_count": 0,
      "outputs": []
    },
    {
      "cell_type": "code",
      "metadata": {
        "id": "RGeKvZKyToFh",
        "colab_type": "code",
        "colab": {}
      },
      "source": [
        "np.set_printoptions(threshold=1000)\n",
        "np.set_printoptions(linewidth=300)\n"
      ],
      "execution_count": 0,
      "outputs": []
    },
    {
      "cell_type": "markdown",
      "metadata": {
        "id": "k3893bQcUG6K",
        "colab_type": "text"
      },
      "source": [
        "## 数据集"
      ]
    },
    {
      "cell_type": "code",
      "metadata": {
        "id": "_1heEhNPPtst",
        "colab_type": "code",
        "colab": {}
      },
      "source": [
        "# 载入数据集\n",
        "from keras.datasets import boston_housing\n",
        "(train_data, train_label), (test_data, test_label) = boston_housing.load_data()\n",
        "print(train_data.shape)\n",
        "print(train_label.shape)\n",
        "print(test_data.shape)\n",
        "print(test_label.shape)"
      ],
      "execution_count": 0,
      "outputs": []
    },
    {
      "cell_type": "markdown",
      "metadata": {
        "id": "kRKTTwWkUNjS",
        "colab_type": "text"
      },
      "source": [
        "# 设计模型"
      ]
    },
    {
      "cell_type": "code",
      "metadata": {
        "id": "huINjAejQBT0",
        "colab_type": "code",
        "colab": {}
      },
      "source": [
        "# 根据数据机设计模型 输入, 输出\n",
        "model = Sequential()\n",
        "model.add(Dense(64, activation='relu', input_dim=13))\n",
        "model.add(Dense(64, activation='relu'))\n",
        "model.add(Dense(1, activation='linear'))\n"
      ],
      "execution_count": 0,
      "outputs": []
    },
    {
      "cell_type": "code",
      "metadata": {
        "id": "c-qP37xCEfZR",
        "colab_type": "code",
        "colab": {}
      },
      "source": [
        "# 添加损失函数 \n",
        "model.compile(optimizer='sgd', \n",
        "              loss='mse',\n",
        "              metrics=[metrics.mae])"
      ],
      "execution_count": 0,
      "outputs": []
    },
    {
      "cell_type": "markdown",
      "metadata": {
        "id": "2QImqXeEUSyS",
        "colab_type": "text"
      },
      "source": [
        "# 让模型学习"
      ]
    },
    {
      "cell_type": "code",
      "metadata": {
        "id": "R9dYOGotPM9Q",
        "colab_type": "code",
        "colab": {}
      },
      "source": [
        "# 模型 学习 \n",
        "# batch_size ： 每次放入32个数据\n",
        "# epochs : 循环100组\n",
        "model.fit(train_data, train_label, epochs=1000, batch_size=16)"
      ],
      "execution_count": 0,
      "outputs": []
    },
    {
      "cell_type": "markdown",
      "metadata": {
        "id": "AiobI4-SUfud",
        "colab_type": "text"
      },
      "source": [
        "# 评价模型"
      ]
    },
    {
      "cell_type": "code",
      "metadata": {
        "id": "BkZhJPOVTe54",
        "colab_type": "code",
        "colab": {}
      },
      "source": [
        "# 模型 评价\n",
        "model.evaluate(x=test_data, y=test_label, verbose=1)"
      ],
      "execution_count": 0,
      "outputs": []
    },
    {
      "cell_type": "markdown",
      "metadata": {
        "id": "Y_zWJQCaUqRn",
        "colab_type": "text"
      },
      "source": [
        "# 用模型预测\n"
      ]
    },
    {
      "cell_type": "code",
      "metadata": {
        "id": "p2VTTZyrUuNF",
        "colab_type": "code",
        "colab": {}
      },
      "source": [
        "print(\"predict data:\")\n",
        "print(test_data[0:1])\n",
        "result = model.predict(x=test_data[0:1], verbose=1, batch_size=1)\n",
        "print(\"predict_result:\")\n",
        "print(result)"
      ],
      "execution_count": 0,
      "outputs": []
    },
    {
      "cell_type": "code",
      "metadata": {
        "id": "k3weTP2TX1vf",
        "colab_type": "code",
        "colab": {}
      },
      "source": [
        "print(\"real data\")\n",
        "print(test_label[0:1])"
      ],
      "execution_count": 0,
      "outputs": []
    }
  ]
}